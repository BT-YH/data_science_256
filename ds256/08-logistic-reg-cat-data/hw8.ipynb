{
 "cells": [
  {
   "cell_type": "markdown",
   "metadata": {
    "collapsed": false
   },
   "source": [
    "# Logistic Regression and Categorical Data\n",
    "\n",
    "Learning Objectives:\n",
    "* Students will learn about the nature of categorical data.\n",
    "* Students will learn about the logistic function, logistic regression, and the application of logistic regression models to categorical output.\n",
    "* Students will learn about and apply one-hot encoding of categorical input features.\n",
    "* Students will learn about power-law distributions of data and apply the hashing trick for encoding power-law-distributed data.\n",
    "\n",
    "Before class:\n",
    "* Wikipedia article on [Logistic Regression](https://en.wikipedia.org/wiki/Logistic_regression), [Introduction](https://en.wikipedia.org/wiki/Logistic_regression), [Applications (section 1)](https://en.wikipedia.org/wiki/Logistic_regression#Applications), and [Examples (section 2)](https://en.wikipedia.org/wiki/Logistic_regression#Examples).\n",
    "* Introductory definition sections for [One-Hot](https://en.wikipedia.org/wiki/One-hot) and [Dummy Variable](https://en.wikipedia.org/wiki/Dummy_variable_(statistics)) and [Power Law](https://en.wikipedia.org/wiki/Power_law)\n",
    "* Read below up to (but not including) the section marked In Class.\n",
    "\n",
    "Optional reference/tutorial:\n",
    "* [Real Python \"Logistic Regression in Python\" article](https://realpython.com/logistic-regression-python/)\n",
    "* [Analytics Vidhya \"One-Hot Encoding vs. Label Encoding using Scikit-Learn\"](https://www.analyticsvidhya.com/blog/2020/03/one-hot-encoding-vs-label-encoding-using-scikit-learn/)\n",
    "\n",
    "In class:\n",
    "* We will work together on the exercises in section \"In Class\".\n",
    "\n",
    "Homework after class:\n",
    "* Complete the section labeled \"Homework\" below before the next class when it will be collected.\n"
   ]
  },
  {
   "cell_type": "markdown",
   "metadata": {
    "collapsed": false
   },
   "source": [
    "# Categorical Data\n",
    "\n",
    "Categorical data is, as the name implies, data that expresses categories to be assigned to [categorical variables](https://en.wikipedia.org/wiki/Categorical_variable).  Examples include a car's make (e.g. Toyota) and model (e.g. Corolla), sex (e.g. Female), qualitative characterizations (e.g. sweet, sour, bitter), and any other set of labels that aren't necessarily ordered/numeric in nature.  Below, we generate data based on the Wikipedia Logistic Regression [Examples (section 2)](https://en.wikipedia.org/wiki/Logistic_regression#Examples) with numeric input variable ```hours_studied``` and categorical output ```outcome``` with values ```pass```/```fail```.  Our objective in this example is to predict the outcome of an exam given the number of hours a student studied for it."
   ]
  },
  {
   "cell_type": "code",
   "execution_count": 1,
   "metadata": {
    "collapsed": false
   },
   "outputs": [
    {
     "name": "stdout",
     "output_type": "stream",
     "text": [
      "       hours_studied\n",
      "count     500.000000\n",
      "mean        2.982988\n",
      "std         1.458782\n",
      "min         0.523477\n",
      "25%         1.739129\n",
      "50%         2.934210\n",
      "75%         4.153729\n",
      "max         5.494235\n",
      "     hours_studied result\n",
      "168       4.149953   pass\n",
      "243       1.160341   fail\n",
      "108       1.615408   fail\n",
      "474       5.201048   pass\n",
      "173       0.592609   fail\n",
      "67        0.985506   fail\n",
      "52        5.441869   pass\n",
      "495       1.858264   fail\n",
      "35        3.588177   pass\n",
      "69        0.980492   fail\n"
     ]
    }
   ],
   "source": [
    "import numpy as np\n",
    "import pandas as pd\n",
    "%matplotlib inline\n",
    "import matplotlib.pyplot as plt\n",
    "from sklearn.linear_model import LinearRegression\n",
    "from sklearn.linear_model import LogisticRegression\n",
    "from sklearn.linear_model import Ridge\n",
    "import math\n",
    "\n",
    "# NOTE: It is not necessary for you to understand this code at this point.  It is supplied for the curious.\n",
    "\n",
    "# We begin by importing our entire pseudorandom number generator (PRNG) module and giving it a \"seed\" for reproducability:\n",
    "from random import *\n",
    "seed(0)\n",
    "np.random.seed(0)\n",
    "\n",
    "# We generate 500 random uniform numbers of student hours in the range 0.5 to 5.5:\n",
    "df1 = pd.DataFrame(np.random.uniform(low=0.5, high=5.5, size=(500, 1)), columns=['hours_studied'])\n",
    "\n",
    "# From these, we use an underlying logistic model (that we'll later try to estimate) to generate pass/fail results.\n",
    "real_intercept = -4\n",
    "real_hours_coeff = 1.5\n",
    "def pass_prob(hours_studied):\n",
    "    return (1 / (1 + math.exp(-(real_hours_coeff * hours_studied + real_intercept))))\n",
    "df1['result'] = df1['hours_studied'].apply(lambda x: 'pass' if random() < pass_prob(x) else 'fail')\n",
    "\n",
    "print(df1.describe())\n",
    "print(df1.sample(10))"
   ]
  },
  {
   "cell_type": "markdown",
   "metadata": {
    "collapsed": false
   },
   "source": [
    "## Logistic Regression\n",
    "\n",
    "Logistic Regression seeks to fit a logistic function curve to data in the range $[0, 1]$.   We need to first convert our data target values to 1 (pass) and 0 (fail).  Below, we perform the conversion and visualize the data."
   ]
  },
  {
   "cell_type": "code",
   "execution_count": 2,
   "metadata": {
    "collapsed": false,
    "scrolled": true
   },
   "outputs": [
    {
     "data": {
      "image/png": "[encoded data removed]",
      "text/plain": [
       "<Figure size 640x480 with 1 Axes>"
      ]
     },
     "metadata": {},
     "output_type": "display_data"
    }
   ],
   "source": [
    "y = df1['result'].apply(lambda s: 1 if s == 'pass' else 0)\n",
    "X = df1[['hours_studied']]\n",
    "plt.scatter(X, y);"
   ]
  },
  {
   "cell_type": "markdown",
   "metadata": {
    "collapsed": false
   },
   "source": [
    "Note how there is a greater frequency of passing as the number of hours studied increases.  Just looking at the data, we could infer that the probability of passing is very low or very high with few or many hours of study, respectively.  However, in the middle range of values, there is not a sharp transitions from all failures to all passes; there is no magical number of hours of study to predict the outcome.  We expect a gradual transition of the underlying probability.  This is the most common use of logistic regression, to fit a logistic curve to the data so that we have a model for the underlying probability.  We can then round the model's prediction to 1 or 0 to make predictions for any input.\n",
    "\n",
    "Performing a logistic regression is much like performing a linear regression, and not just syntactically.  The logistic function for multiple inputs is of the form $\\frac{1}{1 + b^{-(\\beta_0 + \\beta_1 x_1 + \\ldots + \\beta_n x_n)}}$.  Note the parenthesized expression in the denominator.  Where have you seen it before?\n",
    "\n",
    "The parenthesized form is what we fit for linear regression, so that logistic regression is just linear regression form transformed through a logistic function.  Thus, it is no surprise that we find [logistic regression](https://scikit-learn.org/stable/modules/generated/sklearn.linear_model.LogisticRegression.html#sklearn.linear_model.LogisticRegression) in the linear regression module of ```sklearn```:"
   ]
  },
  {
   "cell_type": "code",
   "execution_count": 3,
   "metadata": {
    "collapsed": false
   },
   "outputs": [
    {
     "name": "stdout",
     "output_type": "stream",
     "text": [
      "y-intercept: [-3.30365824]\n",
      "x coefficient(s): [[1.22762643]]\n",
      "R^2 score: 0.8\n",
      "(1000, 2)\n"
     ]
    },
    {
     "name": "stderr",
     "output_type": "stream",
     "text": [
      "/Accounts/turing/students/s26/tangyi02/miniconda3/envs/cs371/lib/python3.10/site-packages/sklearn/base.py:439: UserWarning: X does not have valid feature names, but LogisticRegression was fitted with feature names\n",
      "  warnings.warn(\n",
      "/Accounts/turing/students/s26/tangyi02/miniconda3/envs/cs371/lib/python3.10/site-packages/sklearn/base.py:439: UserWarning: X does not have valid feature names, but LogisticRegression was fitted with feature names\n",
      "  warnings.warn(\n"
     ]
    },
    {
     "data": {
      "image/png": "[encoded data removed]",
      "text/plain": [
       "<Figure size 640x480 with 1 Axes>"
      ]
     },
     "metadata": {},
     "output_type": "display_data"
    }
   ],
   "source": [
    "logistic_regressor = LogisticRegression()\n",
    "logistic_regressor.fit(X, y)\n",
    "print('y-intercept:', logistic_regressor.intercept_)  # print the y-intercept\n",
    "print('x coefficient(s):', logistic_regressor.coef_)  # print the x coefficient\n",
    "print('R^2 score:', logistic_regressor.score(X, y))  # print R^2 score\n",
    "\n",
    "# Plot the scatterplot of the data (blue), the original logistic generating function (blue),\n",
    "# the fit logistic function (orange), and the model category prediction (green).\n",
    "x_vals = np.linspace(start=X.min(), stop=X.max(), num=1000)  # 1000 linearly spaces points from the min to the max of x\n",
    "y_fit = logistic_regressor.predict_proba(x_vals)  # n-by-2 nd array that has false/true probability estimates as second 0/1 index\n",
    "y_predict = logistic_regressor.predict(x_vals)\n",
    "y_source = [pass_prob(x) for x in x_vals]\n",
    "print(y_fit.shape)\n",
    "plt.scatter(X, y, color='blue')\n",
    "plt.plot(x_vals, y_source, color='blue')\n",
    "plt.plot(x_vals, y_fit[:, 1], color='orange')\n",
    "plt.plot(x_vals, y_predict, color='green');"
   ]
  },
  {
   "cell_type": "markdown",
   "metadata": {
    "collapsed": false
   },
   "source": [
    "Over the original data, we see the original curve providing the source of the probabilities for the data (blue), the fit logistic curve of probability estimates (orange), and the true (1) / false (0) prediction (green) that would be made for our model by rounding the estimated probabilities (orange).  Note that we expect lower $R^2$ scores here because of the high variance of the data for intermediate values between the extremes.  We cannot expect high accuracy for such output.  However, we note that even with 500 data points, we were able to reconstruct the generating probability function fairly well.\n",
    "\n",
    "We can close the loop in terms of our representation by creating a function to map back to ```pass``` and ```fail``` values:"
   ]
  },
  {
   "cell_type": "code",
   "execution_count": 4,
   "metadata": {
    "collapsed": false
   },
   "outputs": [
    {
     "name": "stdout",
     "output_type": "stream",
     "text": [
      "fail\n",
      "pass\n",
      "pass\n"
     ]
    }
   ],
   "source": [
    "def predict_pass_fail(hours_studied):\n",
    "    return 'pass' if logistic_regressor.predict([[hours_studied]])[0] else 'fail'  # note that a 1 / 0 value can be used in place of True / False\n",
    "print(predict_pass_fail(0.6))\n",
    "print(predict_pass_fail(3.0))\n",
    "print(predict_pass_fail(6.0))"
   ]
  },
  {
   "cell_type": "markdown",
   "metadata": {
    "collapsed": false
   },
   "source": [
    "### Multiple logistic regression\n",
    "\n",
    "The same techniques and syntax apply to multiple input variables, just as we saw with multiple linear regression.\n",
    "\n",
    "### Multiple output categories\n",
    "\n",
    "One way to apply logistic regression to the prediction of one of more than two output categories is called one-versus-all.  The approach is relatively simple:\n",
    "* For each output ```y``` category ```c```:\n",
    "  * Create a target ```y_c``` that is 1 when ```y``` is ```c``` and 0 otherwise (\"versus-all\").\n",
    "  * Perform logistic regression to create a model ```m_c``` to predict the probability of belonging to category ```c```, i.e. ```y_c``` = 1.\n",
    "* For an input ```x```, predict category ```c``` for whichever model ```m_c``` yields the highest probability of ```x``` belonging to ```c```.\n",
    "\n",
    "In summary, we build a separate predictor for each category versus not belonging to that category.  We classify an input to the category whose predictor has highest confidence of the input belonging to that category."
   ]
  },
  {
   "cell_type": "markdown",
   "metadata": {
    "collapsed": false
   },
   "source": [
    "## One-Hot Encoding of Categorical Data\n",
    "\n",
    "All of our input data thus far has been numeric.  All of our regression techniques accept only numeric data.  **What does one do if one has categorical input data and wants to apply regression techniques that require numeric inputs?**  Suppose we have numeric input ```car_years``` and categorical input auto ```make``` (```Citroen```, ```Jeep```, and ```Toyota```) as input and numeric ```maintenance_cost``` output. \n",
    "\n",
    "Here's what _not_ to do: Assign make categories to unique integers and perform a linear/nonlinear regression.  Why is this a bad approach?  There's no reason to believe that these auto makes have an ordering such that the integers would offer a help our our regression.\n",
    "\n",
    "Here's a better approach: Create new 1.0 / 0.0 (meaning True / False, respectively) numeric input features, one for each category, e.g. ```is_Citroen```, ```is_Jeep```, and ```is_Toyota```, and use these created binary category-indicating features in place of the original categorical input ```make```.\n",
    "\n",
    "This is what is known as \"One Hot Encoding\".  Each category value is represented by having exactly one of the created binary features having a \"hot\" (1) value with all others having value 0.  Let's see this at work.  First, we'll generate our demonstration data."
   ]
  },
  {
   "cell_type": "code",
   "execution_count": 5,
   "metadata": {
    "collapsed": false
   },
   "outputs": [
    {
     "data": {
      "text/html": [
       "<div>\n",
       "<style scoped>\n",
       "    .dataframe tbody tr th:only-of-type {\n",
       "        vertical-align: middle;\n",
       "    }\n",
       "\n",
       "    .dataframe tbody tr th {\n",
       "        vertical-align: top;\n",
       "    }\n",
       "\n",
       "    .dataframe thead th {\n",
       "        text-align: right;\n",
       "    }\n",
       "</style>\n",
       "<table border=\"1\" class=\"dataframe\">\n",
       "  <thead>\n",
       "    <tr style=\"text-align: right;\">\n",
       "      <th></th>\n",
       "      <th>car_years</th>\n",
       "      <th>make</th>\n",
       "      <th>maintenance_cost</th>\n",
       "    </tr>\n",
       "  </thead>\n",
       "  <tbody>\n",
       "    <tr>\n",
       "      <th>0</th>\n",
       "      <td>0</td>\n",
       "      <td>Jeep</td>\n",
       "      <td>154.995212</td>\n",
       "    </tr>\n",
       "    <tr>\n",
       "      <th>1</th>\n",
       "      <td>20</td>\n",
       "      <td>Jeep</td>\n",
       "      <td>184.449713</td>\n",
       "    </tr>\n",
       "    <tr>\n",
       "      <th>2</th>\n",
       "      <td>13</td>\n",
       "      <td>Jeep</td>\n",
       "      <td>158.576381</td>\n",
       "    </tr>\n",
       "    <tr>\n",
       "      <th>3</th>\n",
       "      <td>13</td>\n",
       "      <td>Citroen</td>\n",
       "      <td>116.721869</td>\n",
       "    </tr>\n",
       "    <tr>\n",
       "      <th>4</th>\n",
       "      <td>5</td>\n",
       "      <td>Jeep</td>\n",
       "      <td>168.009981</td>\n",
       "    </tr>\n",
       "    <tr>\n",
       "      <th>5</th>\n",
       "      <td>15</td>\n",
       "      <td>Toyota</td>\n",
       "      <td>76.047579</td>\n",
       "    </tr>\n",
       "    <tr>\n",
       "      <th>6</th>\n",
       "      <td>7</td>\n",
       "      <td>Toyota</td>\n",
       "      <td>63.100477</td>\n",
       "    </tr>\n",
       "    <tr>\n",
       "      <th>7</th>\n",
       "      <td>18</td>\n",
       "      <td>Toyota</td>\n",
       "      <td>65.835009</td>\n",
       "    </tr>\n",
       "    <tr>\n",
       "      <th>8</th>\n",
       "      <td>4</td>\n",
       "      <td>Toyota</td>\n",
       "      <td>46.231770</td>\n",
       "    </tr>\n",
       "    <tr>\n",
       "      <th>9</th>\n",
       "      <td>14</td>\n",
       "      <td>Jeep</td>\n",
       "      <td>190.239053</td>\n",
       "    </tr>\n",
       "  </tbody>\n",
       "</table>\n",
       "</div>"
      ],
      "text/plain": [
       "   car_years     make  maintenance_cost\n",
       "0          0     Jeep        154.995212\n",
       "1         20     Jeep        184.449713\n",
       "2         13     Jeep        158.576381\n",
       "3         13  Citroen        116.721869\n",
       "4          5     Jeep        168.009981\n",
       "5         15   Toyota         76.047579\n",
       "6          7   Toyota         63.100477\n",
       "7         18   Toyota         65.835009\n",
       "8          4   Toyota         46.231770\n",
       "9         14     Jeep        190.239053"
      ]
     },
     "execution_count": 5,
     "metadata": {},
     "output_type": "execute_result"
    }
   ],
   "source": [
    "makes = ['Citroen', 'Jeep', 'Toyota']\n",
    "num_makes = len(makes)\n",
    "base_values = [114, 173, 58]\n",
    "stdev = 10.0\n",
    "year_factor = 1.5\n",
    "max_year = 20\n",
    "\n",
    "num_rows = 500\n",
    "df = pd.DataFrame(np.random.randint(low=0, high=max_year + 1, size=(num_rows, 1)), columns=['car_years'])\n",
    "rand_indices = np.random.randint(low=0, high=num_makes, size=(num_rows, 1))\n",
    "make_vals = [makes[rand_indices[i][0]] for i in range(num_rows)]\n",
    "noise = np.random.normal(0, stdev, num_rows)\n",
    "cost_vals = [max(0, base_values[rand_indices[i][0]] + year_factor * (df['car_years'][i] - max_year / 2) + noise[i]) for i in range(num_rows)]\n",
    "df['make'] = make_vals\n",
    "df['maintenance_cost'] = cost_vals\n",
    "df.head(10)\n"
   ]
  },
  {
   "cell_type": "markdown",
   "metadata": {
    "collapsed": false
   },
   "source": [
    "In ```pandas```, it is particularly easy to create the one-hot-enconding variables: "
   ]
  },
  {
   "cell_type": "code",
   "execution_count": 6,
   "metadata": {
    "collapsed": false
   },
   "outputs": [
    {
     "data": {
      "text/html": [
       "<div>\n",
       "<style scoped>\n",
       "    .dataframe tbody tr th:only-of-type {\n",
       "        vertical-align: middle;\n",
       "    }\n",
       "\n",
       "    .dataframe tbody tr th {\n",
       "        vertical-align: top;\n",
       "    }\n",
       "\n",
       "    .dataframe thead th {\n",
       "        text-align: right;\n",
       "    }\n",
       "</style>\n",
       "<table border=\"1\" class=\"dataframe\">\n",
       "  <thead>\n",
       "    <tr style=\"text-align: right;\">\n",
       "      <th></th>\n",
       "      <th>make_Citroen</th>\n",
       "      <th>make_Jeep</th>\n",
       "      <th>make_Toyota</th>\n",
       "    </tr>\n",
       "  </thead>\n",
       "  <tbody>\n",
       "    <tr>\n",
       "      <th>0</th>\n",
       "      <td>0</td>\n",
       "      <td>1</td>\n",
       "      <td>0</td>\n",
       "    </tr>\n",
       "    <tr>\n",
       "      <th>1</th>\n",
       "      <td>0</td>\n",
       "      <td>1</td>\n",
       "      <td>0</td>\n",
       "    </tr>\n",
       "    <tr>\n",
       "      <th>2</th>\n",
       "      <td>0</td>\n",
       "      <td>1</td>\n",
       "      <td>0</td>\n",
       "    </tr>\n",
       "    <tr>\n",
       "      <th>3</th>\n",
       "      <td>1</td>\n",
       "      <td>0</td>\n",
       "      <td>0</td>\n",
       "    </tr>\n",
       "    <tr>\n",
       "      <th>4</th>\n",
       "      <td>0</td>\n",
       "      <td>1</td>\n",
       "      <td>0</td>\n",
       "    </tr>\n",
       "    <tr>\n",
       "      <th>5</th>\n",
       "      <td>0</td>\n",
       "      <td>0</td>\n",
       "      <td>1</td>\n",
       "    </tr>\n",
       "    <tr>\n",
       "      <th>6</th>\n",
       "      <td>0</td>\n",
       "      <td>0</td>\n",
       "      <td>1</td>\n",
       "    </tr>\n",
       "    <tr>\n",
       "      <th>7</th>\n",
       "      <td>0</td>\n",
       "      <td>0</td>\n",
       "      <td>1</td>\n",
       "    </tr>\n",
       "    <tr>\n",
       "      <th>8</th>\n",
       "      <td>0</td>\n",
       "      <td>0</td>\n",
       "      <td>1</td>\n",
       "    </tr>\n",
       "    <tr>\n",
       "      <th>9</th>\n",
       "      <td>0</td>\n",
       "      <td>1</td>\n",
       "      <td>0</td>\n",
       "    </tr>\n",
       "  </tbody>\n",
       "</table>\n",
       "</div>"
      ],
      "text/plain": [
       "   make_Citroen  make_Jeep  make_Toyota\n",
       "0             0          1            0\n",
       "1             0          1            0\n",
       "2             0          1            0\n",
       "3             1          0            0\n",
       "4             0          1            0\n",
       "5             0          0            1\n",
       "6             0          0            1\n",
       "7             0          0            1\n",
       "8             0          0            1\n",
       "9             0          1            0"
      ]
     },
     "execution_count": 6,
     "metadata": {},
     "output_type": "execute_result"
    }
   ],
   "source": [
    "X = pd.get_dummies(df.make, prefix='make')\n",
    "X.head(10)"
   ]
  },
  {
   "cell_type": "markdown",
   "metadata": {
    "collapsed": false
   },
   "source": [
    "However, to use this with unseen future data is awkward, as we have no stored way of performing the encoding again for individual instances.  That's why some prefer the ```sklearn``` [```OneHotEncoder```](https://scikit-learn.org/stable/modules/generated/sklearn.preprocessing.OneHotEncoder.html)."
   ]
  },
  {
   "cell_type": "code",
   "execution_count": 7,
   "metadata": {
    "collapsed": false
   },
   "outputs": [
    {
     "name": "stdout",
     "output_type": "stream",
     "text": [
      "Our one-hot-encoded make data:\n",
      "[[0. 1. 0.]\n",
      " [0. 1. 0.]\n",
      " [0. 1. 0.]\n",
      " ...\n",
      " [0. 1. 0.]\n",
      " [0. 0. 1.]\n",
      " [0. 1. 0.]]\n",
      "New columns: ['make_0', 'make_1', 'make_2']\n"
     ]
    },
    {
     "data": {
      "text/html": [
       "<div>\n",
       "<style scoped>\n",
       "    .dataframe tbody tr th:only-of-type {\n",
       "        vertical-align: middle;\n",
       "    }\n",
       "\n",
       "    .dataframe tbody tr th {\n",
       "        vertical-align: top;\n",
       "    }\n",
       "\n",
       "    .dataframe thead th {\n",
       "        text-align: right;\n",
       "    }\n",
       "</style>\n",
       "<table border=\"1\" class=\"dataframe\">\n",
       "  <thead>\n",
       "    <tr style=\"text-align: right;\">\n",
       "      <th></th>\n",
       "      <th>car_years</th>\n",
       "      <th>make</th>\n",
       "      <th>maintenance_cost</th>\n",
       "      <th>make_0</th>\n",
       "      <th>make_1</th>\n",
       "      <th>make_2</th>\n",
       "    </tr>\n",
       "  </thead>\n",
       "  <tbody>\n",
       "    <tr>\n",
       "      <th>0</th>\n",
       "      <td>0</td>\n",
       "      <td>Jeep</td>\n",
       "      <td>154.995212</td>\n",
       "      <td>0.0</td>\n",
       "      <td>1.0</td>\n",
       "      <td>0.0</td>\n",
       "    </tr>\n",
       "    <tr>\n",
       "      <th>1</th>\n",
       "      <td>20</td>\n",
       "      <td>Jeep</td>\n",
       "      <td>184.449713</td>\n",
       "      <td>0.0</td>\n",
       "      <td>1.0</td>\n",
       "      <td>0.0</td>\n",
       "    </tr>\n",
       "    <tr>\n",
       "      <th>2</th>\n",
       "      <td>13</td>\n",
       "      <td>Jeep</td>\n",
       "      <td>158.576381</td>\n",
       "      <td>0.0</td>\n",
       "      <td>1.0</td>\n",
       "      <td>0.0</td>\n",
       "    </tr>\n",
       "    <tr>\n",
       "      <th>3</th>\n",
       "      <td>13</td>\n",
       "      <td>Citroen</td>\n",
       "      <td>116.721869</td>\n",
       "      <td>1.0</td>\n",
       "      <td>0.0</td>\n",
       "      <td>0.0</td>\n",
       "    </tr>\n",
       "    <tr>\n",
       "      <th>4</th>\n",
       "      <td>5</td>\n",
       "      <td>Jeep</td>\n",
       "      <td>168.009981</td>\n",
       "      <td>0.0</td>\n",
       "      <td>1.0</td>\n",
       "      <td>0.0</td>\n",
       "    </tr>\n",
       "  </tbody>\n",
       "</table>\n",
       "</div>"
      ],
      "text/plain": [
       "   car_years     make  maintenance_cost  make_0  make_1  make_2\n",
       "0          0     Jeep        154.995212     0.0     1.0     0.0\n",
       "1         20     Jeep        184.449713     0.0     1.0     0.0\n",
       "2         13     Jeep        158.576381     0.0     1.0     0.0\n",
       "3         13  Citroen        116.721869     1.0     0.0     0.0\n",
       "4          5     Jeep        168.009981     0.0     1.0     0.0"
      ]
     },
     "execution_count": 7,
     "metadata": {},
     "output_type": "execute_result"
    }
   ],
   "source": [
    "from sklearn import preprocessing\n",
    "onehotencoder = preprocessing.OneHotEncoder()\n",
    "# Reshape the make one-dimensional array to 2D as fit_transform expects a 2D array and fit the object \n",
    "make_ohe = onehotencoder.fit_transform(df.make.values.reshape(-1,1)).toarray()\n",
    "print(\"Our one-hot-encoded make data:\")\n",
    "print(make_ohe)\n",
    "# If we wanted to add this back into the original dataframe,\n",
    "# 1) Create column names for the encoding.\n",
    "one_hot_column_names = [\"make_\"+str(int(i)) for i in range(make_ohe.shape[1])]\n",
    "print('New columns:', one_hot_column_names)\n",
    "# 2) Create a new dataframe with these columns and our one-hot encoded data\n",
    "dfOneHot = pd.DataFrame(make_ohe, columns = one_hot_column_names)\n",
    "# 3) Concatentate our original dataframe df with the dataframe containing our new columns\n",
    "df = pd.concat([df, dfOneHot], axis=1)\n",
    "df.head()"
   ]
  },
  {
   "cell_type": "markdown",
   "metadata": {
    "collapsed": false
   },
   "source": [
    "We've generated our demonstration data with a linear relationship, so we are now in a position to linearly regress ```maintenance_cost``` onto our numeric features: ```car_years```, ```make_0```, ```make_1```, and ```make_2```.  (Of course, we could hand nonlinear relationships in data as well.)"
   ]
  },
  {
   "cell_type": "code",
   "execution_count": 8,
   "metadata": {
    "collapsed": false
   },
   "outputs": [
    {
     "name": "stdout",
     "output_type": "stream",
     "text": [
      "y-intercept: [99.37145854]\n",
      "X coefficient(s): [[  1.56469678  -0.78581503  57.74981257 -56.96399754]]\n",
      "R^2 score: 0.9614389037101071\n"
     ]
    }
   ],
   "source": [
    "X = df[['car_years', 'make_0', 'make_1', 'make_2']]  # select input(s)\n",
    "y = df[['maintenance_cost']]  # select output\n",
    "linear_regressor = LinearRegression()  # create linear regression object\n",
    "linear_regressor.fit(X, y)  # perform linear regression of output onto inputs\n",
    "print('y-intercept:', linear_regressor.intercept_)  # print the y-intercept\n",
    "print('X coefficient(s):', linear_regressor.coef_)  # print the x coefficient\n",
    "print('R^2 score:', linear_regressor.score(X, y))  # print R^2 score"
   ]
  },
  {
   "cell_type": "markdown",
   "metadata": {
    "collapsed": false
   },
   "source": [
    "From this model, we can see that our base cost prediction in the y-intercept.  We can also see that car_years contributes to cost increase, and that Jeeps and Toyotas respectively increase and decrease the expected cost.\n",
    "\n",
    "Let suppose we have some new car data.  How can we use our learned model?  Thankfully, our ```OneHotEncoding``` object still exists for transforming the data.  Watch how we do not \"fit\" its transformation, but rather just use its transformation.\n",
    "\n",
    "First, we'll generate a 3 data values as we did above but without values."
   ]
  },
  {
   "cell_type": "code",
   "execution_count": 9,
   "metadata": {
    "collapsed": false
   },
   "outputs": [
    {
     "data": {
      "text/html": [
       "<div>\n",
       "<style scoped>\n",
       "    .dataframe tbody tr th:only-of-type {\n",
       "        vertical-align: middle;\n",
       "    }\n",
       "\n",
       "    .dataframe tbody tr th {\n",
       "        vertical-align: top;\n",
       "    }\n",
       "\n",
       "    .dataframe thead th {\n",
       "        text-align: right;\n",
       "    }\n",
       "</style>\n",
       "<table border=\"1\" class=\"dataframe\">\n",
       "  <thead>\n",
       "    <tr style=\"text-align: right;\">\n",
       "      <th></th>\n",
       "      <th>car_years</th>\n",
       "      <th>make</th>\n",
       "    </tr>\n",
       "  </thead>\n",
       "  <tbody>\n",
       "    <tr>\n",
       "      <th>0</th>\n",
       "      <td>10</td>\n",
       "      <td>Citroen</td>\n",
       "    </tr>\n",
       "    <tr>\n",
       "      <th>1</th>\n",
       "      <td>9</td>\n",
       "      <td>Toyota</td>\n",
       "    </tr>\n",
       "    <tr>\n",
       "      <th>2</th>\n",
       "      <td>3</td>\n",
       "      <td>Jeep</td>\n",
       "    </tr>\n",
       "  </tbody>\n",
       "</table>\n",
       "</div>"
      ],
      "text/plain": [
       "   car_years     make\n",
       "0         10  Citroen\n",
       "1          9   Toyota\n",
       "2          3     Jeep"
      ]
     },
     "execution_count": 9,
     "metadata": {},
     "output_type": "execute_result"
    }
   ],
   "source": [
    "np.random.seed(6)\n",
    "num_rows = 3\n",
    "df_new = pd.DataFrame(np.random.randint(low=0, high=max_year + 1, size=(num_rows, 1)), columns=['car_years'])\n",
    "rand_indices = np.random.randint(low=0, high=num_makes, size=(num_rows, 1))\n",
    "make_vals = [makes[rand_indices[i][0]] for i in range(num_rows)]\n",
    "noise = np.random.normal(0, stdev, num_rows)\n",
    "df_new['make'] = make_vals\n",
    "df_new"
   ]
  },
  {
   "cell_type": "markdown",
   "metadata": {
    "collapsed": false
   },
   "source": [
    "Next we'll go through the same steps to apply one-hot encoding but _reapplying_ what we've already created:"
   ]
  },
  {
   "cell_type": "code",
   "execution_count": 10,
   "metadata": {
    "collapsed": false
   },
   "outputs": [
    {
     "name": "stdout",
     "output_type": "stream",
     "text": [
      "Our one-hot-encoded make with new data:\n",
      "[[1. 0. 0.]\n",
      " [0. 0. 1.]\n",
      " [0. 1. 0.]]\n"
     ]
    },
    {
     "data": {
      "text/html": [
       "<div>\n",
       "<style scoped>\n",
       "    .dataframe tbody tr th:only-of-type {\n",
       "        vertical-align: middle;\n",
       "    }\n",
       "\n",
       "    .dataframe tbody tr th {\n",
       "        vertical-align: top;\n",
       "    }\n",
       "\n",
       "    .dataframe thead th {\n",
       "        text-align: right;\n",
       "    }\n",
       "</style>\n",
       "<table border=\"1\" class=\"dataframe\">\n",
       "  <thead>\n",
       "    <tr style=\"text-align: right;\">\n",
       "      <th></th>\n",
       "      <th>car_years</th>\n",
       "      <th>make</th>\n",
       "      <th>make_0</th>\n",
       "      <th>make_1</th>\n",
       "      <th>make_2</th>\n",
       "    </tr>\n",
       "  </thead>\n",
       "  <tbody>\n",
       "    <tr>\n",
       "      <th>0</th>\n",
       "      <td>10</td>\n",
       "      <td>Citroen</td>\n",
       "      <td>1.0</td>\n",
       "      <td>0.0</td>\n",
       "      <td>0.0</td>\n",
       "    </tr>\n",
       "    <tr>\n",
       "      <th>1</th>\n",
       "      <td>9</td>\n",
       "      <td>Toyota</td>\n",
       "      <td>0.0</td>\n",
       "      <td>0.0</td>\n",
       "      <td>1.0</td>\n",
       "    </tr>\n",
       "    <tr>\n",
       "      <th>2</th>\n",
       "      <td>3</td>\n",
       "      <td>Jeep</td>\n",
       "      <td>0.0</td>\n",
       "      <td>1.0</td>\n",
       "      <td>0.0</td>\n",
       "    </tr>\n",
       "  </tbody>\n",
       "</table>\n",
       "</div>"
      ],
      "text/plain": [
       "   car_years     make  make_0  make_1  make_2\n",
       "0         10  Citroen     1.0     0.0     0.0\n",
       "1          9   Toyota     0.0     0.0     1.0\n",
       "2          3     Jeep     0.0     1.0     0.0"
      ]
     },
     "execution_count": 10,
     "metadata": {},
     "output_type": "execute_result"
    }
   ],
   "source": [
    "make_ohe = onehotencoder.transform(df_new.make.values.reshape(-1,1)).toarray()\n",
    "print(\"Our one-hot-encoded make with new data:\")\n",
    "print(make_ohe)\n",
    "# Create a new dataframe with these columns and our one-hot encoded data\n",
    "dfOneHot = pd.DataFrame(make_ohe, columns = one_hot_column_names)\n",
    "# 3) Concatentate our original dataframe df with the dataframe containing our new columns\n",
    "df_new = pd.concat([df_new, dfOneHot], axis=1)\n",
    "df_new.head()"
   ]
  },
  {
   "cell_type": "markdown",
   "metadata": {
    "collapsed": false
   },
   "source": [
    "Finally, we can apply our linear regression model to predict maintenance cost values."
   ]
  },
  {
   "cell_type": "code",
   "execution_count": 11,
   "metadata": {
    "collapsed": false
   },
   "outputs": [
    {
     "name": "stdout",
     "output_type": "stream",
     "text": [
      "[[114.23261127]\n",
      " [ 56.48973199]\n",
      " [161.81536144]]\n"
     ]
    },
    {
     "data": {
      "text/html": [
       "<div>\n",
       "<style scoped>\n",
       "    .dataframe tbody tr th:only-of-type {\n",
       "        vertical-align: middle;\n",
       "    }\n",
       "\n",
       "    .dataframe tbody tr th {\n",
       "        vertical-align: top;\n",
       "    }\n",
       "\n",
       "    .dataframe thead th {\n",
       "        text-align: right;\n",
       "    }\n",
       "</style>\n",
       "<table border=\"1\" class=\"dataframe\">\n",
       "  <thead>\n",
       "    <tr style=\"text-align: right;\">\n",
       "      <th></th>\n",
       "      <th>car_years</th>\n",
       "      <th>make</th>\n",
       "      <th>make_0</th>\n",
       "      <th>make_1</th>\n",
       "      <th>make_2</th>\n",
       "      <th>maintenance_cost</th>\n",
       "    </tr>\n",
       "  </thead>\n",
       "  <tbody>\n",
       "    <tr>\n",
       "      <th>0</th>\n",
       "      <td>10</td>\n",
       "      <td>Citroen</td>\n",
       "      <td>1.0</td>\n",
       "      <td>0.0</td>\n",
       "      <td>0.0</td>\n",
       "      <td>114.232611</td>\n",
       "    </tr>\n",
       "    <tr>\n",
       "      <th>1</th>\n",
       "      <td>9</td>\n",
       "      <td>Toyota</td>\n",
       "      <td>0.0</td>\n",
       "      <td>0.0</td>\n",
       "      <td>1.0</td>\n",
       "      <td>56.489732</td>\n",
       "    </tr>\n",
       "    <tr>\n",
       "      <th>2</th>\n",
       "      <td>3</td>\n",
       "      <td>Jeep</td>\n",
       "      <td>0.0</td>\n",
       "      <td>1.0</td>\n",
       "      <td>0.0</td>\n",
       "      <td>161.815361</td>\n",
       "    </tr>\n",
       "  </tbody>\n",
       "</table>\n",
       "</div>"
      ],
      "text/plain": [
       "   car_years     make  make_0  make_1  make_2  maintenance_cost\n",
       "0         10  Citroen     1.0     0.0     0.0        114.232611\n",
       "1          9   Toyota     0.0     0.0     1.0         56.489732\n",
       "2          3     Jeep     0.0     1.0     0.0        161.815361"
      ]
     },
     "execution_count": 11,
     "metadata": {},
     "output_type": "execute_result"
    }
   ],
   "source": [
    "X = df_new[['car_years', 'make_0', 'make_1', 'make_2']]  # select input(s)\n",
    "y = linear_regressor.predict(X)\n",
    "print(y)\n",
    "df_new['maintenance_cost'] = y\n",
    "df_new"
   ]
  },
  {
   "cell_type": "markdown",
   "metadata": {
    "collapsed": false
   },
   "source": [
    "There are two final important things to note.  One is a caveat.  Notice that given any two of these one-hot encoded values starting with ```make_```, we can predict the third.  Therefore, if we're looking for patterns in our one-hot encoded data, we can fall into the \"dummy variable\" trap, causing problems with some techniques because there isn't independence among these inputs.  The solution is simple: drop any one of our ```make_``` variables from our model building.\n",
    "\n",
    "The second important thing to note is that one-hot encoding becomes too computationally cumbersome when there are too many distinct categorical values.  For this difficulty, we do something similar, using something called \"the hashing trick\"."
   ]
  },
  {
   "cell_type": "markdown",
   "metadata": {
    "collapsed": false
   },
   "source": [
    "## Power-Law Distributions and the Hashing Trick\n",
    "\n",
    "There are many types of data that exhibit a [Power Law Distribution](https://en.wikipedia.org/wiki/Power_law) with most values being a popular few, yet having many different unique values.  In the code below, I'll generate some string data according to a Power Law Distributions and we'll see its characteristics:"
   ]
  },
  {
   "cell_type": "code",
   "execution_count": 12,
   "metadata": {
    "collapsed": false
   },
   "outputs": [
    {
     "name": "stdout",
     "output_type": "stream",
     "text": [
      "Number of numeric values generated: 10000\n",
      "Histogram of Distribution:\n"
     ]
    },
    {
     "data": {
      "image/png": "[encoded data removed]",
      "text/plain": [
       "<Figure size 432x288 with 1 Axes>"
      ]
     },
     "execution_count": 12,
     "metadata": {
      "image/png": {
       "height": 248,
       "width": 381
      },
      "needs_background": "light"
     },
     "output_type": "execute_result"
    },
    {
     "name": "stdout",
     "output_type": "stream",
     "text": [
      "count     10000\n",
      "unique      129\n",
      "top       aaaab\n",
      "freq       3668\n",
      "Name: c1, dtype: object\n"
     ]
    },
    {
     "data": {
      "text/html": [
       "<div>\n",
       "<style scoped>\n",
       "    .dataframe tbody tr th:only-of-type {\n",
       "        vertical-align: middle;\n",
       "    }\n",
       "\n",
       "    .dataframe tbody tr th {\n",
       "        vertical-align: top;\n",
       "    }\n",
       "\n",
       "    .dataframe thead th {\n",
       "        text-align: right;\n",
       "    }\n",
       "</style>\n",
       "<table border=\"1\" class=\"dataframe\">\n",
       "  <thead>\n",
       "    <tr style=\"text-align: right;\">\n",
       "      <th></th>\n",
       "      <th>c1</th>\n",
       "      <th>y</th>\n",
       "    </tr>\n",
       "  </thead>\n",
       "  <tbody>\n",
       "    <tr>\n",
       "      <th>0</th>\n",
       "      <td>aaaab</td>\n",
       "      <td>0.082508</td>\n",
       "    </tr>\n",
       "    <tr>\n",
       "      <th>1</th>\n",
       "      <td>aaaab</td>\n",
       "      <td>0.082369</td>\n",
       "    </tr>\n",
       "    <tr>\n",
       "      <th>2</th>\n",
       "      <td>aaaac</td>\n",
       "      <td>-0.432031</td>\n",
       "    </tr>\n",
       "    <tr>\n",
       "      <th>3</th>\n",
       "      <td>aaaad</td>\n",
       "      <td>-0.493635</td>\n",
       "    </tr>\n",
       "    <tr>\n",
       "      <th>4</th>\n",
       "      <td>aaaac</td>\n",
       "      <td>-0.432336</td>\n",
       "    </tr>\n",
       "    <tr>\n",
       "      <th>5</th>\n",
       "      <td>aaaac</td>\n",
       "      <td>-0.432212</td>\n",
       "    </tr>\n",
       "    <tr>\n",
       "      <th>6</th>\n",
       "      <td>aaaab</td>\n",
       "      <td>0.084397</td>\n",
       "    </tr>\n",
       "    <tr>\n",
       "      <th>7</th>\n",
       "      <td>aaaad</td>\n",
       "      <td>-0.492776</td>\n",
       "    </tr>\n",
       "    <tr>\n",
       "      <th>8</th>\n",
       "      <td>aaaac</td>\n",
       "      <td>-0.434290</td>\n",
       "    </tr>\n",
       "    <tr>\n",
       "      <th>9</th>\n",
       "      <td>aaaac</td>\n",
       "      <td>-0.433184</td>\n",
       "    </tr>\n",
       "  </tbody>\n",
       "</table>\n",
       "</div>"
      ],
      "text/plain": [
       "      c1         y\n",
       "0  aaaab  0.082508\n",
       "1  aaaab  0.082369\n",
       "2  aaaac -0.432031\n",
       "3  aaaad -0.493635\n",
       "4  aaaac -0.432336\n",
       "5  aaaac -0.432212\n",
       "6  aaaab  0.084397\n",
       "7  aaaad -0.492776\n",
       "8  aaaac -0.434290\n",
       "9  aaaac -0.433184"
      ]
     },
     "execution_count": 12,
     "metadata": {},
     "output_type": "execute_result"
    }
   ],
   "source": [
    "# Generating power law distribution of numbers according to https://en.wikipedia.org/wiki/Pareto_distribution#Random_sample_generation\n",
    "# with Pareto Principle alpha value.\n",
    "seed(0)\n",
    "num_values = 10000\n",
    "print(\"Number of numeric values generated:\", num_values)\n",
    "x_m = 1.0\n",
    "alpha = 1.16\n",
    "X = [x_m / (random() ** (1/alpha)) for i in range(10000)]\n",
    "x_max = max(X)\n",
    "X = [round(x / x_max, 4) for x in X]\n",
    "print(\"Histogram of Distribution:\")\n",
    "_ = plt.hist(X, bins=1000)\n",
    "plt.show()\n",
    "\n",
    "# Convert numbers to strings of letters\n",
    "alpha = 'abcdefghij'\n",
    "def convert_to_str(x):\n",
    "    x_str = str(x)\n",
    "    x_str = x_str.replace('.','')\n",
    "    x_chars = list(x_str)\n",
    "    l_chars = [alpha[int(ch)] for ch in x_chars]\n",
    "    return \"\".join(l_chars)\n",
    "S = [convert_to_str(x) for x in X]\n",
    "S_set = set(S)\n",
    "\n",
    "# Associate values:\n",
    "val_dict = {s:random() - 0.5 for s in S_set}\n",
    "df = pd.DataFrame(S, columns=['c1'])\n",
    "y_vals = [val_dict[s] + np.random.normal(scale=0.001) for s in S]\n",
    "df['y'] = y_vals\n",
    "print(df.c1.describe())\n",
    "df.head(10)"
   ]
  },
  {
   "cell_type": "markdown",
   "metadata": {
    "collapsed": false
   },
   "source": [
    "What we've created are 10,000 numeric values scaled to $[0, 1]$ and rounded to 4 decimal places. The distribution shows that, after scaling, almost all values are very small and the smallest comprises over a third of the total values.  And yet there are 129 unique values among the 10000.  These are converted into categorical data strings and each string is associated with some base value, and a bit of noise is introduced to the dataset.\n",
    "\n",
    "This is a small sample for demonstration purposes.  The [Kaggle Criteo Display Advertising Challenge](https://www.kaggle.com/c/criteo-display-ad-challenge) had one categorical variable with over 10 _million_ unique values, but relatively few values made up a large share of values for that variable.\n",
    "\n",
    "Here we'll describe and then demonstrate what is known as the hashing trick.  Here is our strategy:\n",
    "* For each category value, put it through a [hash function](https://en.wikipedia.org/wiki/Hash_function) that maps data of arbitrary size to a fixed set of values.  These values are generally integers that appear random, but are arrived at through a deterministic process like a pseudorandom number generator.\n",
    "* Take the resulting integer's absolute value, and then compute modulus (%) some number of binary 0/1 variables that one wants as a limit.  These function similar to one-hot variables, yet there can be _collisions_ (two different values mapping to the same index) and there will be collisions guaranteed if the number of binary variables is less than the number of unique values.\n",
    "* One then does an encoding as if one has computed one-hot variable indices.\n",
    "\n",
    "Here's the trick that makes this work well.  If there are relatively few common values, and you have chosen enough values such that these common values do not collide, you get most of the performance of one-hot encoding without exploding your memory usage.  Let's see this in action."
   ]
  },
  {
   "cell_type": "code",
   "execution_count": 13,
   "metadata": {
    "collapsed": false
   },
   "outputs": [
    {
     "name": "stdout",
     "output_type": "stream",
     "text": [
      "hashing trick variables: ['h0', 'h1', 'h2', 'h3', 'h4', 'h5', 'h6', 'h7', 'h8', 'h9', 'h10', 'h11', 'h12', 'h13', 'h14', 'h15', 'h16', 'h17', 'h18', 'h19', 'h20', 'h21', 'h22', 'h23', 'h24', 'h25', 'h26', 'h27', 'h28', 'h29', 'h30', 'h31', 'h32', 'h33', 'h34', 'h35', 'h36', 'h37', 'h38', 'h39']\n",
      "First 10 hash values: [34, 34, 36, 22, 36, 36, 34, 22, 36, 36]\n"
     ]
    },
    {
     "name": "stdout",
     "output_type": "stream",
     "text": [
      "    h0   h1   h2   h3   h4   h5   h6   h7   h8   h9  ...  h30  h31  h32  h33  \\\n",
      "0  0.0  0.0  0.0  0.0  0.0  0.0  0.0  0.0  0.0  0.0  ...  0.0  0.0  0.0  0.0   \n",
      "1  0.0  0.0  0.0  0.0  0.0  0.0  0.0  0.0  0.0  0.0  ...  0.0  0.0  0.0  0.0   \n",
      "2  0.0  0.0  0.0  0.0  0.0  0.0  0.0  0.0  0.0  0.0  ...  0.0  0.0  0.0  0.0   \n",
      "3  0.0  0.0  0.0  0.0  0.0  0.0  0.0  0.0  0.0  0.0  ...  0.0  0.0  0.0  0.0   \n",
      "4  0.0  0.0  0.0  0.0  0.0  0.0  0.0  0.0  0.0  0.0  ...  0.0  0.0  0.0  0.0   \n",
      "5  0.0  0.0  0.0  0.0  0.0  0.0  0.0  0.0  0.0  0.0  ...  0.0  0.0  0.0  0.0   \n",
      "6  0.0  0.0  0.0  0.0  0.0  0.0  0.0  0.0  0.0  0.0  ...  0.0  0.0  0.0  0.0   \n",
      "7  0.0  0.0  0.0  0.0  0.0  0.0  0.0  0.0  0.0  0.0  ...  0.0  0.0  0.0  0.0   \n",
      "8  0.0  0.0  0.0  0.0  0.0  0.0  0.0  0.0  0.0  0.0  ...  0.0  0.0  0.0  0.0   \n",
      "9  0.0  0.0  0.0  0.0  0.0  0.0  0.0  0.0  0.0  0.0  ...  0.0  0.0  0.0  0.0   \n",
      "\n",
      "   h34  h35  h36  h37  h38  h39  \n",
      "0  1.0  0.0  0.0  0.0  0.0  0.0  \n",
      "1  1.0  0.0  0.0  0.0  0.0  0.0  \n",
      "2  0.0  0.0  1.0  0.0  0.0  0.0  \n",
      "3  0.0  0.0  0.0  0.0  0.0  0.0  \n",
      "4  0.0  0.0  1.0  0.0  0.0  0.0  \n",
      "5  0.0  0.0  1.0  0.0  0.0  0.0  \n",
      "6  1.0  0.0  0.0  0.0  0.0  0.0  \n",
      "7  0.0  0.0  0.0  0.0  0.0  0.0  \n",
      "8  0.0  0.0  1.0  0.0  0.0  0.0  \n",
      "9  0.0  0.0  1.0  0.0  0.0  0.0  \n",
      "\n",
      "[10 rows x 40 columns]\n",
      "y-intercept: [0.04148306]\n",
      "X coefficient(s): [[-0.1992895   0.1708218   0.01868574 -0.22561482  0.10144809 -0.35580465\n",
      "  -0.15067126 -0.36223429  0.22958716  0.19926064  0.01527276 -0.1356599\n",
      "  -0.24164339  0.29412457  0.06704127  0.01560419  0.18987062  0.15033273\n",
      "   0.20098851  0.19397095  0.21858696 -0.07731236 -0.32797796 -0.19077006\n",
      "  -0.08349057 -0.07532784  0.0331355   0.04240875  0.          0.02838124\n",
      "   0.20953686  0.0160892   0.09239943  0.3516411   0.0403429   0.10471641\n",
      "  -0.45745412 -0.06405812  0.         -0.03693854]]\n",
      "R^2 score: 0.7440666850980412\n",
      "[[ 0.08182596]\n",
      " [-0.41597106]\n",
      " [-0.2864949 ]\n",
      " [-0.2864949 ]\n",
      " [ 0.05675582]\n",
      " [ 0.39312416]]\n"
     ]
    }
   ],
   "source": [
    "num_variables = 40  # far less than the number of unique values\n",
    "var_names = [\"h\" + str(int(i)) for i in range(num_variables)]\n",
    "print(\"hashing trick variables:\", var_names)\n",
    "df_hash = pd.DataFrame(np.zeros((num_values, num_variables)), columns=var_names)\n",
    "hash_vals = [abs(hash(s)) % num_variables for s in df['c1']] # many Python built-in types have a hash predefined\n",
    "print(\"First 10 hash values:\", hash_vals[0:10])\n",
    "for i, val in enumerate(hash_vals):\n",
    "    var_name = 'h' + str(val)\n",
    "    df_hash[var_name][i] = 1 # put a 1 in row i under the hash variable h# for the i_th hash value #\n",
    "print(df_hash.head(10))\n",
    "\n",
    "# With this encoding, we can now perform whatever regression is appropriate.  \n",
    "# Here and in exercises, apply _ridge_ regression.  Linear regression applied\n",
    "# to these problems can result in large coefficients.  Ridge regression is linear\n",
    "# regression but with a \"regularization\" penalty for large coefficients.\n",
    "X = df_hash  # select input(s)\n",
    "y = df[['y']]  # select output\n",
    "ridge_regressor = Ridge()  # create ridge regression object\n",
    "ridge_regressor.fit(X, y)  # perform ridge regression of output onto inputs\n",
    "print('y-intercept:', ridge_regressor.intercept_)  # print the y-intercept\n",
    "print('X coefficient(s):', ridge_regressor.coef_)  # print the x coefficient\n",
    "print('R^2 score:', ridge_regressor.score(X, y))  # print R^2 score\n",
    "\n",
    "# Predictions for 'aaaab', 'aaaac', 'aaaad', 'aaaae', 'aaaaf', and 'aaaag'\n",
    "S_new = ['aaaab', 'aaaac', 'aaaad', 'aaaae', 'aaaaf', 'aaaag']\n",
    "df_hash_new = pd.DataFrame(np.zeros((len(S_new), num_variables)), columns=var_names)\n",
    "hash_vals = [abs(hash(s)) % num_variables for s in S_new] # many Python built-in types have a hash predefined\n",
    "for i, val in enumerate(hash_vals):\n",
    "    var_name = 'h' + str(val)\n",
    "    df_hash_new[var_name][i] = 1 # put a 1 in row i under the hash variable h# for the i_th hash value #\n",
    "X = df_hash_new\n",
    "print(ridge_regressor.predict(X))"
   ]
  },
  {
   "cell_type": "markdown",
   "metadata": {
    "collapsed": false
   },
   "source": [
    "Thus, we can see that the hashing trick can perform a decent regression on a power law distribution using a number of binary variables for encoding categorical data with a much larger number of unique values.  Looking at the top size most frequent values, we can see here that the 1st and 4th most common values collide to the detriment of the regression accuracy.  However, even with this severe collision scenario, we can see that the technique is largely successful.  On a commercial scale, we would have many more hashing variables and and many magnitudes larger for the number of unique values.\n",
    "\n",
    "For an imperfect analogy, imagine that each hashed category is a different post office box.  We can associate a recipient with each box.  Letters meant for one recipient will get delivered to the same P.O. box as another recipient, but if almost all of the mail is going to few recipients, then the fraction of miss-delivered mail will be relatively small.  In the same way, the coefficients will be good estimates for the most frequent values provided that our number of hashing variables is large enough.\n",
    "\n",
    "This hashing trick is often used in industry to deal with massive amounts of categorical data that follows a power law distribution."
   ]
  },
  {
   "cell_type": "markdown",
   "metadata": {
    "collapsed": false
   },
   "source": [
    "# In Class\n",
    "\n",
    "Together in class, you will seek to build models for each of the given data sets using the techniques above."
   ]
  },
  {
   "cell_type": "markdown",
   "metadata": {
    "collapsed": false
   },
   "source": [
    "**Exercise 1:** Perform logistic regression on the data of [ic8-1.csv](http://cs.gettysburg.edu/~tneller/ds256/data/inclass/ic8-1.csv).  Perform the same steps as with the ```hours_studied```/```result``` example above.  In this case, you will not have the generating model (the blue curve plotted above), and you'll predict output ```positive```/```negative``` for ```ppm``` values 5, 20, and 35.  You should have an $R^2$ score of 0.818 and your answers should be 'negative', 'positive', and 'positive', respectively."
   ]
  },
  {
   "cell_type": "code",
   "execution_count": null,
   "metadata": {
    "collapsed": false
   },
   "outputs": [],
   "source": []
  },
  {
   "cell_type": "markdown",
   "metadata": {
    "collapsed": false
   },
   "source": [
    "**Exercise 2:** The data of [ic8-2.csv](http://cs.gettysburg.edu/~tneller/ds256/data/inclass/ic8-2.csv) has one numeric input ```x1``` and two categorical inputs ```c1``` and ```c2```.  Assume that there is a linear relationship between input data and numerical output ```y```.  Build a linear regression model for ```y``` using the steps described above in the One-Hot Encoding section.  Finally, predict the ```y``` value that would correspond to ```x1``` = 0.1, ```c1``` = 'b', and ```c2``` = 'y'.  You should have an $R^2$ score of about 0.985 and your predicted ```y``` value should be about 0.401."
   ]
  },
  {
   "cell_type": "code",
   "execution_count": null,
   "metadata": {
    "collapsed": false
   },
   "outputs": [],
   "source": []
  },
  {
   "cell_type": "markdown",
   "metadata": {
    "collapsed": false
   },
   "source": [
    "**Exercise 3:** The data of [ic8-3.csv](http://cs.gettysburg.edu/~tneller/ds256/data/inclass/ic8-3.csv) has one categorical input ```c1``` and one numeric output ```y```.  First find the number of unique categorical values.  Then find a number of hashing variables less than half of the number of unique values that yields an $R^2$ for ridge regression greater than or equal to .9.  Print the prediction of the most frequent value. (Hint: ```print(df.c1.describe())``` to see statistics on categorical variable ```c1``` in dataframe ```df```.)"
   ]
  },
  {
   "cell_type": "code",
   "execution_count": null,
   "metadata": {
    "collapsed": false
   },
   "outputs": [],
   "source": []
  },
  {
   "cell_type": "markdown",
   "metadata": {
    "collapsed": false
   },
   "source": [
    "## Homework\n",
    "\n",
    "**Exercise 1:** Perform logistic regression on the data of [hw8-1.csv](http://cs.gettysburg.edu/~tneller/ds256/data/inclass/hw8-1.csv) following all steps of in-class exercise 1, with predictions printed in the original target categorical form for input values -0.5, 0.0, and 0.5.  "
   ]
  },
  {
   "cell_type": "code",
   "execution_count": null,
   "metadata": {
    "collapsed": false
   },
   "outputs": [],
   "source": []
  },
  {
   "cell_type": "markdown",
   "metadata": {
    "collapsed": false
   },
   "source": [
    "**Exercise 2:**  Perform the same work as in-class exercise 2, except using [hw8-2.csv](http://cs.gettysburg.edu/~tneller/ds256/data/inclass/hw8-2.csv) and predicting ```y``` for ```x1``` = -0.5, ```c1``` = 'z', and ```c2``` = 'q'."
   ]
  },
  {
   "cell_type": "code",
   "execution_count": null,
   "metadata": {
    "collapsed": false
   },
   "outputs": [],
   "source": []
  },
  {
   "cell_type": "markdown",
   "metadata": {
    "collapsed": false
   },
   "source": [
    "**Exercise 3:**  Do the same as in-class exercise 3, but with  [hw8-3.csv](http://cs.gettysburg.edu/~tneller/ds256/data/inclass/hw8-3.csv)."
   ]
  },
  {
   "cell_type": "code",
   "execution_count": null,
   "metadata": {
    "collapsed": false
   },
   "outputs": [],
   "source": []
  },
  {
   "cell_type": "markdown",
   "metadata": {
    "collapsed": false
   },
   "source": [
    "(end of homework)"
   ]
  }
 ],
 "metadata": {
  "kernelspec": {
   "display_name": "Python 3.10.10 ('cs371')",
   "language": "python",
   "name": "python3"
  },
  "language_info": {
   "codemirror_mode": {
    "name": "ipython",
    "version": 3
   },
   "file_extension": ".py",
   "mimetype": "text/x-python",
   "name": "python",
   "nbconvert_exporter": "python",
   "pygments_lexer": "ipython3",
   "version": "3.10.10"
  },
  "vscode": {
   "interpreter": {
    "hash": "5117e1b922d0e9b9035b9aab25f982ca9b63987f11858640d9a60ed0f3d43f99"
   }
  }
 },
 "nbformat": 4,
 "nbformat_minor": 4
}
